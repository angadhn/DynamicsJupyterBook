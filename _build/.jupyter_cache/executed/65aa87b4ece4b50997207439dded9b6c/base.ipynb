{
 "cells": [
  {
   "cell_type": "code",
   "execution_count": 1,
   "metadata": {},
   "outputs": [],
   "source": [
    "from sympy import symbols\n",
    "from sympy.physics.mechanics import dynamicsymbols, ReferenceFrame\n",
    "v, e = symbols('v e')\n",
    "theta = dynamicsymbols('theta')"
   ]
  },
  {
   "cell_type": "code",
   "execution_count": 2,
   "metadata": {},
   "outputs": [],
   "source": [
    "A = ReferenceFrame('A')\n",
    "B = ReferenceFrame('B')"
   ]
  },
  {
   "cell_type": "code",
   "execution_count": 3,
   "metadata": {},
   "outputs": [],
   "source": [
    "from sympy import Matrix, sin, cos"
   ]
  },
  {
   "cell_type": "code",
   "execution_count": 4,
   "metadata": {},
   "outputs": [],
   "source": [
    "B_dcm_A = Matrix([\n",
    "    [cos(theta), 0, sin(theta)],\n",
    "    [0, 1, 0],\n",
    "    [-sin(theta), 0, cos(theta)]\n",
    "])"
   ]
  },
  {
   "cell_type": "code",
   "execution_count": 5,
   "metadata": {},
   "outputs": [
    {
     "data": {
      "text/latex": [
       "$\\displaystyle \\left[\\begin{matrix}\\cos{\\left(\\theta{\\left(t \\right)} \\right)} & 0 & \\sin{\\left(\\theta{\\left(t \\right)} \\right)}\\\\0 & 1 & 0\\\\- \\sin{\\left(\\theta{\\left(t \\right)} \\right)} & 0 & \\cos{\\left(\\theta{\\left(t \\right)} \\right)}\\end{matrix}\\right]$"
      ],
      "text/plain": [
       "Matrix([\n",
       "[ cos(theta(t)), 0, sin(theta(t))],\n",
       "[             0, 1,             0],\n",
       "[-sin(theta(t)), 0, cos(theta(t))]])"
      ]
     },
     "execution_count": 5,
     "metadata": {},
     "output_type": "execute_result"
    }
   ],
   "source": [
    "B_dcm_A"
   ]
  },
  {
   "cell_type": "code",
   "execution_count": 6,
   "metadata": {},
   "outputs": [],
   "source": [
    "A.orient(B, 'DCM', B_dcm_A)"
   ]
  },
  {
   "cell_type": "code",
   "execution_count": 7,
   "metadata": {},
   "outputs": [
    {
     "data": {
      "text/latex": [
       "$\\displaystyle -  \\frac{d}{d t} \\theta{\\left(t \\right)}\\mathbf{\\hat{b}_y}$"
      ],
      "text/plain": [
       "- Derivative(theta(t), t)*B.y"
      ]
     },
     "execution_count": 7,
     "metadata": {},
     "output_type": "execute_result"
    }
   ],
   "source": [
    "B.ang_vel_in(A)"
   ]
  },
  {
   "cell_type": "code",
   "execution_count": 8,
   "metadata": {},
   "outputs": [
    {
     "data": {
      "text/latex": [
       "$\\displaystyle -  \\frac{d^{2}}{d t^{2}} \\theta{\\left(t \\right)}\\mathbf{\\hat{b}_y}$"
      ],
      "text/plain": [
       "- Derivative(theta(t), (t, 2))*B.y"
      ]
     },
     "execution_count": 8,
     "metadata": {},
     "output_type": "execute_result"
    }
   ],
   "source": [
    "B.ang_acc_in(A)"
   ]
  },
  {
   "cell_type": "code",
   "execution_count": 9,
   "metadata": {},
   "outputs": [],
   "source": [
    "v_vec = v*B.x\n",
    "e_vec = -e*B.y"
   ]
  },
  {
   "cell_type": "code",
   "execution_count": 10,
   "metadata": {},
   "outputs": [
    {
     "data": {
      "text/latex": [
       "$\\displaystyle v \\cos{\\left(\\theta{\\left(t \\right)} \\right)}\\mathbf{\\hat{a}_x} + v \\sin{\\left(\\theta{\\left(t \\right)} \\right)}\\mathbf{\\hat{a}_z}$"
      ],
      "text/plain": [
       "v*cos(theta(t))*A.x + v*sin(theta(t))*A.z"
      ]
     },
     "execution_count": 10,
     "metadata": {},
     "output_type": "execute_result"
    }
   ],
   "source": [
    "v_vec.express(A)"
   ]
  },
  {
   "cell_type": "code",
   "execution_count": 11,
   "metadata": {},
   "outputs": [
    {
     "data": {
      "text/latex": [
       "$\\displaystyle -  e\\mathbf{\\hat{a}_y}$"
      ],
      "text/plain": [
       "- e*A.y"
      ]
     },
     "execution_count": 11,
     "metadata": {},
     "output_type": "execute_result"
    }
   ],
   "source": [
    "e_vec.express(A)"
   ]
  }
 ],
 "metadata": {
  "kernelspec": {
   "display_name": "Python 3",
   "language": "python",
   "name": "python3"
  },
  "language_info": {
   "codemirror_mode": {
    "name": "ipython",
    "version": 3
   },
   "file_extension": ".py",
   "mimetype": "text/x-python",
   "name": "python",
   "nbconvert_exporter": "python",
   "pygments_lexer": "ipython3",
   "version": "3.8.11"
  },
  "toc": {
   "base_numbering": 1,
   "nav_menu": {},
   "number_sections": true,
   "sideBar": true,
   "skip_h1_title": false,
   "title_cell": "Table of Contents",
   "title_sidebar": "Contents",
   "toc_cell": true,
   "toc_position": {},
   "toc_section_display": true,
   "toc_window_display": false
  }
 },
 "nbformat": 4,
 "nbformat_minor": 4
}
{
 "cells": [
  {
   "cell_type": "code",
   "execution_count": 1,
   "metadata": {
    "attributes": {
     "classes": [
      "py"
     ],
     "id": ""
    }
   },
   "outputs": [
    {
     "name": "stdout",
     "output_type": "stream",
     "text": [
      "My name is  Bond. James Bond.\n"
     ]
    }
   ],
   "source": [
    "name = 'Bond. James Bond.'\n",
    "print('My name is ', name)"
   ]
  },
  {
   "cell_type": "code",
   "execution_count": 2,
   "metadata": {
    "attributes": {
     "classes": [],
     "id": "",
     "n": "6"
    }
   },
   "outputs": [],
   "source": [
    "from sympy import symbols\n",
    "from sympy.physics.mechanics import ReferenceFrame"
   ]
  },
  {
   "cell_type": "code",
   "execution_count": 3,
   "metadata": {
    "attributes": {
     "classes": [
      "py"
     ],
     "id": ""
    }
   },
   "outputs": [],
   "source": [
    "v1, v2, v3 = symbols('v1, v2, v3', real=True)"
   ]
  },
  {
   "cell_type": "code",
   "execution_count": 4,
   "metadata": {
    "attributes": {
     "classes": [
      "py"
     ],
     "id": ""
    }
   },
   "outputs": [],
   "source": [
    "A = ReferenceFrame('A')"
   ]
  },
  {
   "cell_type": "code",
   "execution_count": 5,
   "metadata": {
    "attributes": {
     "classes": [
      "py"
     ],
     "id": ""
    }
   },
   "outputs": [
    {
     "data": {
      "text/latex": [
       "$\\displaystyle \\mathbf{\\hat{a}_x}$"
      ],
      "text/plain": [
       "A.x"
      ]
     },
     "execution_count": 5,
     "metadata": {},
     "output_type": "execute_result"
    }
   ],
   "source": [
    "A.x"
   ]
  },
  {
   "cell_type": "code",
   "execution_count": 6,
   "metadata": {
    "attributes": {
     "classes": [
      "py"
     ],
     "id": ""
    }
   },
   "outputs": [
    {
     "data": {
      "text/latex": [
       "$\\displaystyle \\mathbf{\\hat{a}_y}$"
      ],
      "text/plain": [
       "A.y"
      ]
     },
     "execution_count": 6,
     "metadata": {},
     "output_type": "execute_result"
    }
   ],
   "source": [
    "A.y"
   ]
  },
  {
   "cell_type": "code",
   "execution_count": 7,
   "metadata": {
    "attributes": {
     "classes": [
      "py"
     ],
     "id": ""
    }
   },
   "outputs": [
    {
     "data": {
      "text/latex": [
       "$\\displaystyle \\mathbf{\\hat{a}_z}$"
      ],
      "text/plain": [
       "A.z"
      ]
     },
     "execution_count": 7,
     "metadata": {},
     "output_type": "execute_result"
    }
   ],
   "source": [
    "A.z"
   ]
  },
  {
   "cell_type": "code",
   "execution_count": 8,
   "metadata": {
    "attributes": {
     "classes": [
      "py"
     ],
     "id": ""
    }
   },
   "outputs": [],
   "source": [
    "v = v1*A.x + v2*A.y + v3*A.z"
   ]
  },
  {
   "cell_type": "code",
   "execution_count": 9,
   "metadata": {
    "attributes": {
     "classes": [
      "py"
     ],
     "id": ""
    }
   },
   "outputs": [
    {
     "data": {
      "text/latex": [
       "$\\displaystyle v_{1}\\mathbf{\\hat{a}_x} + v_{2}\\mathbf{\\hat{a}_y} + v_{3}\\mathbf{\\hat{a}_z}$"
      ],
      "text/plain": [
       "v1*A.x + v2*A.y + v3*A.z"
      ]
     },
     "execution_count": 9,
     "metadata": {},
     "output_type": "execute_result"
    }
   ],
   "source": [
    "v"
   ]
  },
  {
   "cell_type": "code",
   "execution_count": 10,
   "metadata": {
    "attributes": {
     "classes": [
      "py"
     ],
     "id": ""
    }
   },
   "outputs": [],
   "source": [
    "v?"
   ]
  },
  {
   "cell_type": "code",
   "execution_count": 11,
   "metadata": {
    "attributes": {
     "classes": [
      "py"
     ],
     "id": ""
    }
   },
   "outputs": [
    {
     "data": {
      "text/latex": [
       "$\\displaystyle \\sqrt{v_{1}^{2} + v_{2}^{2} + v_{3}^{2}}$"
      ],
      "text/plain": [
       "sqrt(v1**2 + v2**2 + v3**2)"
      ]
     },
     "execution_count": 11,
     "metadata": {},
     "output_type": "execute_result"
    }
   ],
   "source": [
    "v.magnitude()"
   ]
  },
  {
   "cell_type": "code",
   "execution_count": 12,
   "metadata": {
    "attributes": {
     "classes": [
      "py"
     ],
     "id": ""
    }
   },
   "outputs": [
    {
     "data": {
      "text/latex": [
       "$\\displaystyle \\frac{v_{1}}{\\sqrt{v_{1}^{2} + v_{2}^{2} + v_{3}^{2}}}\\mathbf{\\hat{a}_x} + \\frac{v_{2}}{\\sqrt{v_{1}^{2} + v_{2}^{2} + v_{3}^{2}}}\\mathbf{\\hat{a}_y} + \\frac{v_{3}}{\\sqrt{v_{1}^{2} + v_{2}^{2} + v_{3}^{2}}}\\mathbf{\\hat{a}_z}$"
      ],
      "text/plain": [
       "v1/sqrt(v1**2 + v2**2 + v3**2)*A.x + v2/sqrt(v1**2 + v2**2 + v3**2)*A.y + v3/sqrt(v1**2 + v2**2 + v3**2)*A.z"
      ]
     },
     "execution_count": 12,
     "metadata": {},
     "output_type": "execute_result"
    }
   ],
   "source": [
    "v.normalize()"
   ]
  },
  {
   "cell_type": "code",
   "execution_count": 13,
   "metadata": {
    "attributes": {
     "classes": [
      "py"
     ],
     "id": ""
    }
   },
   "outputs": [
    {
     "data": {
      "text/latex": [
       "$\\displaystyle \\frac{v_{1}}{\\sqrt{v_{1}^{2} + v_{2}^{2} + v_{3}^{2}}}\\mathbf{\\hat{a}_x} + \\frac{v_{2}}{\\sqrt{v_{1}^{2} + v_{2}^{2} + v_{3}^{2}}}\\mathbf{\\hat{a}_y} + \\frac{v_{3}}{\\sqrt{v_{1}^{2} + v_{2}^{2} + v_{3}^{2}}}\\mathbf{\\hat{a}_z}$"
      ],
      "text/plain": [
       "v1/sqrt(v1**2 + v2**2 + v3**2)*A.x + v2/sqrt(v1**2 + v2**2 + v3**2)*A.y + v3/sqrt(v1**2 + v2**2 + v3**2)*A.z"
      ]
     },
     "execution_count": 13,
     "metadata": {},
     "output_type": "execute_result"
    }
   ],
   "source": [
    "v / v.magnitude()"
   ]
  },
  {
   "cell_type": "code",
   "execution_count": 14,
   "metadata": {
    "attributes": {
     "classes": [
      "py"
     ],
     "id": ""
    }
   },
   "outputs": [
    {
     "data": {
      "text/latex": [
       "$\\displaystyle w_{1}\\mathbf{\\hat{a}_x} + w_{2}\\mathbf{\\hat{a}_y} + w_{3}\\mathbf{\\hat{a}_z}$"
      ],
      "text/plain": [
       "w1*A.x + w2*A.y + w3*A.z"
      ]
     },
     "execution_count": 14,
     "metadata": {},
     "output_type": "execute_result"
    }
   ],
   "source": [
    "w1, w2, w3 = symbols(\"w1, w2, w3\", real=True)\n",
    "w = w1*A.x + w2*A.y + w3 * A.z\n",
    "w"
   ]
  },
  {
   "cell_type": "code",
   "execution_count": 15,
   "metadata": {
    "attributes": {
     "classes": [
      "py"
     ],
     "id": ""
    }
   },
   "outputs": [
    {
     "data": {
      "text/latex": [
       "$\\displaystyle (v_{1} + w_{1})\\mathbf{\\hat{a}_x} + (v_{2} + w_{2})\\mathbf{\\hat{a}_y} + (v_{3} + w_{3})\\mathbf{\\hat{a}_z}$"
      ],
      "text/plain": [
       "(v1 + w1)*A.x + (v2 + w2)*A.y + (v3 + w3)*A.z"
      ]
     },
     "execution_count": 15,
     "metadata": {},
     "output_type": "execute_result"
    }
   ],
   "source": [
    "v + w"
   ]
  },
  {
   "cell_type": "code",
   "execution_count": 16,
   "metadata": {
    "attributes": {
     "classes": [
      "py"
     ],
     "id": ""
    }
   },
   "outputs": [
    {
     "data": {
      "text/latex": [
       "$\\displaystyle 2 v_{1}\\mathbf{\\hat{a}_x} + 2 v_{2}\\mathbf{\\hat{a}_y} + 2 v_{3}\\mathbf{\\hat{a}_z}$"
      ],
      "text/plain": [
       "2*v1*A.x + 2*v2*A.y + 2*v3*A.z"
      ]
     },
     "execution_count": 16,
     "metadata": {},
     "output_type": "execute_result"
    }
   ],
   "source": [
    "# Enter your code below\n",
    "v+v"
   ]
  },
  {
   "cell_type": "code",
   "execution_count": 17,
   "metadata": {
    "attributes": {
     "classes": [
      "py"
     ],
     "id": ""
    }
   },
   "outputs": [],
   "source": [
    "# Enter your code below\n",
    "B = ReferenceFrame('B')\n",
    "u1, u2, u3 = symbols(\"u1, u2, u3\", real=True)\n",
    "u = u1*B.x + u2*B.y + u3 * B.z"
   ]
  },
  {
   "cell_type": "code",
   "execution_count": 18,
   "metadata": {},
   "outputs": [
    {
     "data": {
      "text/latex": [
       "$\\displaystyle u_{1}\\mathbf{\\hat{b}_x} + u_{2}\\mathbf{\\hat{b}_y} + u_{3}\\mathbf{\\hat{b}_z} + v_{1}\\mathbf{\\hat{a}_x} + v_{2}\\mathbf{\\hat{a}_y} + v_{3}\\mathbf{\\hat{a}_z}$"
      ],
      "text/plain": [
       "v1*A.x + v2*A.y + v3*A.z + u1*B.x + u2*B.y + u3*B.z"
      ]
     },
     "execution_count": 18,
     "metadata": {},
     "output_type": "execute_result"
    }
   ],
   "source": [
    "# Enter your code below\n",
    "u + v"
   ]
  },
  {
   "cell_type": "code",
   "execution_count": 19,
   "metadata": {
    "attributes": {
     "classes": [
      "py"
     ],
     "id": ""
    }
   },
   "outputs": [
    {
     "data": {
      "text/latex": [
       "$\\displaystyle 10 v_{1}\\mathbf{\\hat{a}_x} + 10 v_{2}\\mathbf{\\hat{a}_y} + 10 v_{3}\\mathbf{\\hat{a}_z}$"
      ],
      "text/plain": [
       "10*v1*A.x + 10*v2*A.y + 10*v3*A.z"
      ]
     },
     "execution_count": 19,
     "metadata": {},
     "output_type": "execute_result"
    }
   ],
   "source": [
    "10 * v"
   ]
  },
  {
   "cell_type": "code",
   "execution_count": 20,
   "metadata": {
    "attributes": {
     "classes": [
      "py"
     ],
     "id": ""
    }
   },
   "outputs": [
    {
     "data": {
      "text/latex": [
       "$\\displaystyle v_{1}^{2} + v_{2}^{2} + v_{3}^{2}$"
      ],
      "text/plain": [
       "v1**2 + v2**2 + v3**2"
      ]
     },
     "execution_count": 20,
     "metadata": {},
     "output_type": "execute_result"
    }
   ],
   "source": [
    "v.dot(v)"
   ]
  },
  {
   "cell_type": "code",
   "execution_count": 21,
   "metadata": {
    "attributes": {
     "classes": [
      "py"
     ],
     "id": ""
    }
   },
   "outputs": [
    {
     "data": {
      "text/latex": [
       "$\\displaystyle 0$"
      ],
      "text/plain": [
       "0"
      ]
     },
     "execution_count": 21,
     "metadata": {},
     "output_type": "execute_result"
    }
   ],
   "source": [
    "v.cross(v)"
   ]
  },
  {
   "cell_type": "code",
   "execution_count": 22,
   "metadata": {
    "attributes": {
     "classes": [
      "py"
     ],
     "id": ""
    }
   },
   "outputs": [
    {
     "data": {
      "text/latex": [
       "$\\displaystyle (v_{2} w_{3} - v_{3} w_{2})\\mathbf{\\hat{a}_x} + (- v_{1} w_{3} + v_{3} w_{1})\\mathbf{\\hat{a}_y} + (v_{1} w_{2} - v_{2} w_{1})\\mathbf{\\hat{a}_z}$"
      ],
      "text/plain": [
       "(v2*w3 - v3*w2)*A.x + (-v1*w3 + v3*w1)*A.y + (v1*w2 - v2*w1)*A.z"
      ]
     },
     "execution_count": 22,
     "metadata": {},
     "output_type": "execute_result"
    }
   ],
   "source": [
    "# Enter your code below\n",
    "v.cross(w)"
   ]
  },
  {
   "cell_type": "code",
   "execution_count": 23,
   "metadata": {
    "attributes": {
     "classes": [
      "py"
     ],
     "id": ""
    }
   },
   "outputs": [
    {
     "data": {
      "text/latex": [
       "$\\displaystyle \\left[\\begin{matrix}v_{1}\\\\v_{2}\\\\v_{3}\\end{matrix}\\right]$"
      ],
      "text/plain": [
       "Matrix([\n",
       "[v1],\n",
       "[v2],\n",
       "[v3]])"
      ]
     },
     "execution_count": 23,
     "metadata": {},
     "output_type": "execute_result"
    }
   ],
   "source": [
    "v.to_matrix(A)"
   ]
  },
  {
   "cell_type": "code",
   "execution_count": 24,
   "metadata": {
    "attributes": {
     "classes": [
      "py"
     ],
     "id": ""
    }
   },
   "outputs": [
    {
     "data": {
      "text/plain": [
       "{v1, v2, v3}"
      ]
     },
     "execution_count": 24,
     "metadata": {},
     "output_type": "execute_result"
    }
   ],
   "source": [
    "v.free_symbols(A)"
   ]
  },
  {
   "cell_type": "code",
   "execution_count": 25,
   "metadata": {
    "attributes": {
     "classes": [
      "py"
     ],
     "id": ""
    }
   },
   "outputs": [
    {
     "data": {
      "text/latex": [
       "$\\displaystyle \\mathbf{\\hat{a}_y}$"
      ],
      "text/plain": [
       "A.y"
      ]
     },
     "execution_count": 25,
     "metadata": {},
     "output_type": "execute_result"
    }
   ],
   "source": [
    "v.diff(v2, A)"
   ]
  },
  {
   "cell_type": "code",
   "execution_count": 26,
   "metadata": {
    "attributes": {
     "classes": [
      "py"
     ],
     "id": ""
    }
   },
   "outputs": [
    {
     "data": {
      "text/latex": [
       "$\\displaystyle 1.34\\mathbf{\\hat{a}_x} + 5\\mathbf{\\hat{a}_y} + v_{3}\\mathbf{\\hat{a}_z}$"
      ],
      "text/plain": [
       "1.34*A.x + 5*A.y + v3*A.z"
      ]
     },
     "execution_count": 26,
     "metadata": {},
     "output_type": "execute_result"
    }
   ],
   "source": [
    "v.subs({v1: 1.34, v2: 5})"
   ]
  },
  {
   "cell_type": "code",
   "execution_count": 27,
   "metadata": {
    "attributes": {
     "classes": [
      "py"
     ],
     "id": ""
    }
   },
   "outputs": [
    {
     "data": {
      "text/latex": [
       "$\\displaystyle v_{1}\\mathbf{\\hat{a}_x} + v_{2}\\mathbf{\\hat{a}_y} + v_{3}\\mathbf{\\hat{a}_z}$"
      ],
      "text/plain": [
       "v1*A.x + v2*A.y + v3*A.z"
      ]
     },
     "execution_count": 27,
     "metadata": {},
     "output_type": "execute_result"
    }
   ],
   "source": [
    "v"
   ]
  },
  {
   "cell_type": "code",
   "execution_count": 28,
   "metadata": {
    "attributes": {
     "classes": [
      "py"
     ],
     "id": ""
    }
   },
   "outputs": [
    {
     "data": {
      "text/latex": [
       "$\\displaystyle v_{1}$"
      ],
      "text/plain": [
       "v1"
      ]
     },
     "execution_count": 28,
     "metadata": {},
     "output_type": "execute_result"
    }
   ],
   "source": [
    "v1"
   ]
  },
  {
   "cell_type": "code",
   "execution_count": 29,
   "metadata": {
    "attributes": {
     "classes": [
      "py"
     ],
     "id": ""
    }
   },
   "outputs": [
    {
     "data": {
      "text/latex": [
       "$\\displaystyle v_{2}$"
      ],
      "text/plain": [
       "v2"
      ]
     },
     "execution_count": 29,
     "metadata": {},
     "output_type": "execute_result"
    }
   ],
   "source": [
    "v2"
   ]
  },
  {
   "cell_type": "code",
   "execution_count": 30,
   "metadata": {
    "attributes": {
     "classes": [
      "py"
     ],
     "id": ""
    }
   },
   "outputs": [
    {
     "data": {
      "text/latex": [
       "$\\displaystyle 1.34\\mathbf{\\hat{a}_x} + v_{2}\\mathbf{\\hat{a}_y} + v_{3}\\mathbf{\\hat{a}_z}$"
      ],
      "text/plain": [
       "1.34*A.x + v2*A.y + v3*A.z"
      ]
     },
     "execution_count": 30,
     "metadata": {},
     "output_type": "execute_result"
    }
   ],
   "source": [
    "z = v.subs({v1: 1.34, v2: 5})\n",
    "z.subs({5: v2})"
   ]
  },
  {
   "cell_type": "code",
   "execution_count": 31,
   "metadata": {
    "attributes": {
     "classes": [
      "py"
     ],
     "id": ""
    }
   },
   "outputs": [
    {
     "data": {
      "text/latex": [
       "$\\displaystyle \\left[\\begin{matrix}5\\\\v_{2}\\\\v_{3}\\end{matrix}\\right]$"
      ],
      "text/plain": [
       "Matrix([\n",
       "[ 5],\n",
       "[v2],\n",
       "[v3]])"
      ]
     },
     "execution_count": 31,
     "metadata": {},
     "output_type": "execute_result"
    }
   ],
   "source": [
    "m = v.to_matrix(A)\n",
    "m.subs({v1: 5})"
   ]
  },
  {
   "cell_type": "code",
   "execution_count": 32,
   "metadata": {
    "attributes": {
     "classes": [
      "py"
     ],
     "id": ""
    }
   },
   "outputs": [],
   "source": [
    "#Enter your code below\n",
    "m?"
   ]
  }
 ],
 "metadata": {
  "kernelspec": {
   "display_name": "Python 3",
   "language": "python",
   "name": "python3"
  },
  "language_info": {
   "codemirror_mode": {
    "name": "ipython",
    "version": 3
   },
   "file_extension": ".py",
   "mimetype": "text/x-python",
   "name": "python",
   "nbconvert_exporter": "python",
   "pygments_lexer": "ipython3",
   "version": "3.8.11"
  },
  "toc": {
   "base_numbering": 1,
   "nav_menu": {},
   "number_sections": true,
   "sideBar": true,
   "skip_h1_title": false,
   "title_cell": "Table of Contents",
   "title_sidebar": "Contents",
   "toc_cell": true,
   "toc_position": {},
   "toc_section_display": true,
   "toc_window_display": false
  }
 },
 "nbformat": 4,
 "nbformat_minor": 4
}
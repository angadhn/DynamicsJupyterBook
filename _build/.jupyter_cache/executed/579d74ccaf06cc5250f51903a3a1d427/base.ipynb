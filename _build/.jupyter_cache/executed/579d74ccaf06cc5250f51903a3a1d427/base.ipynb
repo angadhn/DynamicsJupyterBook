{
 "cells": [
  {
   "cell_type": "code",
   "execution_count": 1,
   "metadata": {},
   "outputs": [],
   "source": [
    "from sympy import symbols, sin, cos\n",
    "from sympy.physics.mechanics import dynamicsymbols, ReferenceFrame, init_vprinting\n",
    "init_vprinting()\n",
    "l_scalar = symbols('l')"
   ]
  },
  {
   "cell_type": "code",
   "execution_count": 2,
   "metadata": {},
   "outputs": [],
   "source": [
    "theta_1_scalar, theta_2_scalar, x_scalar = dynamicsymbols('theta_1, theta_2, x')\n",
    "x_scalar_dot = dynamicsymbols('x', 1)"
   ]
  },
  {
   "cell_type": "code",
   "execution_count": 3,
   "metadata": {},
   "outputs": [],
   "source": [
    "N = ReferenceFrame('N')\n",
    "A = ReferenceFrame('A')\n",
    "B = ReferenceFrame('B')"
   ]
  },
  {
   "cell_type": "code",
   "execution_count": 4,
   "metadata": {},
   "outputs": [
    {
     "data": {
      "image/png": "[encoded data removed]",
      "text/latex": [
       "$\\displaystyle \\dot{\\theta}_{1}\\mathbf{\\hat{n}_z}$"
      ],
      "text/plain": [
       "θ₁̇ n_z"
      ]
     },
     "execution_count": 4,
     "metadata": {},
     "output_type": "execute_result"
    }
   ],
   "source": [
    "A.orient(N, 'Axis', (theta_1_scalar, N.z))\n",
    "A.ang_vel_in(N)"
   ]
  },
  {
   "cell_type": "code",
   "execution_count": 5,
   "metadata": {},
   "outputs": [
    {
     "data": {
      "image/png": "[encoded data removed]",
      "text/latex": [
       "$\\displaystyle \\dot{\\theta}_{2}\\mathbf{\\hat{a}_z} + \\dot{\\theta}_{1}\\mathbf{\\hat{n}_z}$"
      ],
      "text/plain": [
       "θ₂̇ a_z + θ₁̇ n_z"
      ]
     },
     "execution_count": 5,
     "metadata": {},
     "output_type": "execute_result"
    }
   ],
   "source": [
    "B.orient(A, 'Axis', (theta_2_scalar, A.z))\n",
    "B.ang_vel_in(N)"
   ]
  },
  {
   "cell_type": "code",
   "execution_count": 6,
   "metadata": {},
   "outputs": [],
   "source": [
    "from sympy.physics.mechanics import Point\n",
    "O = Point('O')\n",
    "Q = Point('Q')\n",
    "P = Point('P')"
   ]
  },
  {
   "cell_type": "code",
   "execution_count": 7,
   "metadata": {},
   "outputs": [],
   "source": [
    "Q.set_pos(O, l_scalar*A.y)"
   ]
  },
  {
   "cell_type": "code",
   "execution_count": 8,
   "metadata": {},
   "outputs": [
    {
     "data": {
      "image/png": "[encoded data removed]",
      "text/latex": [
       "$\\displaystyle l\\mathbf{\\hat{a}_y}$"
      ],
      "text/plain": [
       "l a_y"
      ]
     },
     "execution_count": 8,
     "metadata": {},
     "output_type": "execute_result"
    }
   ],
   "source": [
    "r_OQ_vector = Q.pos_from(O)\n",
    "r_OQ_vector"
   ]
  },
  {
   "cell_type": "code",
   "execution_count": 9,
   "metadata": {},
   "outputs": [
    {
     "data": {
      "image/png": "[encoded data removed]",
      "text/latex": [
       "$\\displaystyle x\\mathbf{\\hat{b}_y}$"
      ],
      "text/plain": [
       "x b_y"
      ]
     },
     "execution_count": 9,
     "metadata": {},
     "output_type": "execute_result"
    }
   ],
   "source": [
    "P.set_pos(Q, x_scalar*B.y)\n",
    "r_QP_vector = P.pos_from(Q)\n",
    "r_QP_vector"
   ]
  },
  {
   "cell_type": "code",
   "execution_count": 10,
   "metadata": {},
   "outputs": [
    {
     "data": {
      "image/png": "[encoded data removed]",
      "text/latex": [
       "$\\displaystyle l\\mathbf{\\hat{a}_y} + x\\mathbf{\\hat{b}_y}$"
      ],
      "text/plain": [
       "l a_y + x b_y"
      ]
     },
     "execution_count": 10,
     "metadata": {},
     "output_type": "execute_result"
    }
   ],
   "source": [
    "r_OP_vector = r_OQ_vector + r_QP_vector\n",
    "r_OP_vector"
   ]
  },
  {
   "cell_type": "code",
   "execution_count": 11,
   "metadata": {},
   "outputs": [
    {
     "data": {
      "image/png": "[encoded data removed]",
      "text/latex": [
       "$\\displaystyle (- l \\dot{\\theta}_{1} - \\left(\\dot{\\theta}_{1} + \\dot{\\theta}_{2}\\right) x \\cos{\\left(\\theta_{2} \\right)} - \\sin{\\left(\\theta_{2} \\right)} \\dot{x})\\mathbf{\\hat{a}_x} + (- \\left(\\dot{\\theta}_{1} + \\dot{\\theta}_{2}\\right) x \\sin{\\left(\\theta_{2} \\right)} + \\cos{\\left(\\theta_{2} \\right)} \\dot{x})\\mathbf{\\hat{a}_y}$"
      ],
      "text/plain": [
       "(-l⋅θ₁̇ - (θ₁̇ + θ₂̇)⋅x⋅cos(θ₂) - sin(θ₂)⋅ẋ) a_x + (-(θ₁̇ + θ\n",
       "₂̇)⋅x⋅sin(θ₂) + cos(θ₂)⋅ẋ) a_y"
      ]
     },
     "execution_count": 11,
     "metadata": {},
     "output_type": "execute_result"
    }
   ],
   "source": [
    "N_v_P_approach1 = r_OP_vector.dt(N)\n",
    "N_v_P_approach1.express(A)"
   ]
  },
  {
   "cell_type": "code",
   "execution_count": 12,
   "metadata": {},
   "outputs": [
    {
     "data": {
      "image/png": "[encoded data removed]",
      "text/latex": [
       "$\\displaystyle (- x \\cos{\\left(\\theta_{2} \\right)} \\dot{\\theta}_{2} - \\sin{\\left(\\theta_{2} \\right)} \\dot{x})\\mathbf{\\hat{a}_x} + (- x \\sin{\\left(\\theta_{2} \\right)} \\dot{\\theta}_{2} + \\cos{\\left(\\theta_{2} \\right)} \\dot{x})\\mathbf{\\hat{a}_y}$"
      ],
      "text/plain": [
       "(-x⋅cos(θ₂)⋅θ₂̇ - sin(θ₂)⋅ẋ) a_x + (-x⋅sin(θ₂)⋅θ₂̇ + cos(θ₂)⋅\n",
       "ẋ) a_y"
      ]
     },
     "execution_count": 12,
     "metadata": {},
     "output_type": "execute_result"
    }
   ],
   "source": [
    "A_v_P_approach1 = r_QP_vector.dt(A)\n",
    "A_v_P_approach1.express(A)"
   ]
  },
  {
   "cell_type": "code",
   "execution_count": 13,
   "metadata": {},
   "outputs": [
    {
     "data": {
      "image/png": "[encoded data removed]",
      "text/latex": [
       "$\\displaystyle \\dot{x}\\mathbf{\\hat{b}_y}$"
      ],
      "text/plain": [
       "ẋ b_y"
      ]
     },
     "execution_count": 13,
     "metadata": {},
     "output_type": "execute_result"
    }
   ],
   "source": [
    "P.set_vel(B, x_scalar_dot*B.y)\n",
    "B_v_P_vector = P.vel(B)\n",
    "B_v_P_vector"
   ]
  },
  {
   "cell_type": "code",
   "execution_count": 14,
   "metadata": {},
   "outputs": [],
   "source": [
    "O.set_vel(N, 0)\n",
    "O.set_vel(A, 0)"
   ]
  },
  {
   "cell_type": "code",
   "execution_count": 15,
   "metadata": {},
   "outputs": [],
   "source": [
    "N_v_O_vector = O.vel(N)"
   ]
  },
  {
   "cell_type": "code",
   "execution_count": 16,
   "metadata": {},
   "outputs": [],
   "source": [
    "N_w_A_vector = A.ang_vel_in(N)"
   ]
  },
  {
   "cell_type": "code",
   "execution_count": 17,
   "metadata": {},
   "outputs": [
    {
     "data": {
      "image/png": "[encoded data removed]",
      "text/latex": [
       "$\\displaystyle -  l \\dot{\\theta}_{1}\\mathbf{\\hat{a}_x}$"
      ],
      "text/plain": [
       "-l⋅θ₁̇ a_x"
      ]
     },
     "execution_count": 17,
     "metadata": {},
     "output_type": "execute_result"
    }
   ],
   "source": [
    "N_v_Q_vector = N_v_O_vector + N_w_A_vector.cross(r_OQ_vector)\n",
    "N_v_Q_vector"
   ]
  },
  {
   "cell_type": "code",
   "execution_count": 18,
   "metadata": {},
   "outputs": [],
   "source": [
    "N_w_B_vector = B.ang_vel_in(N)"
   ]
  },
  {
   "cell_type": "code",
   "execution_count": 19,
   "metadata": {},
   "outputs": [
    {
     "data": {
      "image/png": "[encoded data removed]",
      "text/latex": [
       "$\\displaystyle (- l \\dot{\\theta}_{1} - \\left(\\dot{\\theta}_{1} + \\dot{\\theta}_{2}\\right) x \\cos{\\left(\\theta_{2} \\right)} - \\sin{\\left(\\theta_{2} \\right)} \\dot{x})\\mathbf{\\hat{a}_x} + (- \\left(\\dot{\\theta}_{1} + \\dot{\\theta}_{2}\\right) x \\sin{\\left(\\theta_{2} \\right)} + \\cos{\\left(\\theta_{2} \\right)} \\dot{x})\\mathbf{\\hat{a}_y}$"
      ],
      "text/plain": [
       "(-l⋅θ₁̇ - (θ₁̇ + θ₂̇)⋅x⋅cos(θ₂) - sin(θ₂)⋅ẋ) a_x + (-(θ₁̇ + θ\n",
       "₂̇)⋅x⋅sin(θ₂) + cos(θ₂)⋅ẋ) a_y"
      ]
     },
     "execution_count": 19,
     "metadata": {},
     "output_type": "execute_result"
    }
   ],
   "source": [
    "N_v_P_vector_approach2 = B_v_P_vector + N_v_Q_vector + N_w_B_vector.cross(r_QP_vector)\n",
    "N_v_P_vector_approach2.express(A)"
   ]
  },
  {
   "cell_type": "code",
   "execution_count": 20,
   "metadata": {},
   "outputs": [
    {
     "data": {
      "image/png": "[encoded data removed]",
      "text/latex": [
       "$\\displaystyle 0$"
      ],
      "text/plain": [
       "0"
      ]
     },
     "execution_count": 20,
     "metadata": {},
     "output_type": "execute_result"
    }
   ],
   "source": [
    "Q.set_vel(A, 0)\n",
    "Q.set_vel(B, 0)\n",
    "A_v_Q_vector = Q.vel(A)\n",
    "A_v_Q_vector"
   ]
  },
  {
   "cell_type": "code",
   "execution_count": 21,
   "metadata": {},
   "outputs": [],
   "source": [
    "A_w_B_vector = B.ang_vel_in(A)"
   ]
  },
  {
   "cell_type": "code",
   "execution_count": 22,
   "metadata": {},
   "outputs": [
    {
     "data": {
      "image/png": "[encoded data removed]",
      "text/latex": [
       "$\\displaystyle (- x \\cos{\\left(\\theta_{2} \\right)} \\dot{\\theta}_{2} - \\sin{\\left(\\theta_{2} \\right)} \\dot{x})\\mathbf{\\hat{a}_x} + (- x \\sin{\\left(\\theta_{2} \\right)} \\dot{\\theta}_{2} + \\cos{\\left(\\theta_{2} \\right)} \\dot{x})\\mathbf{\\hat{a}_y}$"
      ],
      "text/plain": [
       "(-x⋅cos(θ₂)⋅θ₂̇ - sin(θ₂)⋅ẋ) a_x + (-x⋅sin(θ₂)⋅θ₂̇ + cos(θ₂)⋅\n",
       "ẋ) a_y"
      ]
     },
     "execution_count": 22,
     "metadata": {},
     "output_type": "execute_result"
    }
   ],
   "source": [
    "A_v_P_vector_approach2 = B_v_P_vector + A_v_Q_vector + A_w_B_vector.cross(r_QP_vector)\n",
    "A_v_P_vector_approach2.express(A)"
   ]
  },
  {
   "cell_type": "code",
   "execution_count": 23,
   "metadata": {},
   "outputs": [
    {
     "data": {
      "text/plain": [
       "True"
      ]
     },
     "execution_count": 23,
     "metadata": {},
     "output_type": "execute_result"
    }
   ],
   "source": [
    "A_v_P_vector_approach2.express(A) == A_v_P_approach1.express(A)"
   ]
  }
 ],
 "metadata": {
  "kernelspec": {
   "display_name": "Python 3",
   "language": "python",
   "name": "python3"
  },
  "language_info": {
   "codemirror_mode": {
    "name": "ipython",
    "version": 3
   },
   "file_extension": ".py",
   "mimetype": "text/x-python",
   "name": "python",
   "nbconvert_exporter": "python",
   "pygments_lexer": "ipython3",
   "version": "3.8.11"
  },
  "toc": {
   "base_numbering": 1,
   "nav_menu": {},
   "number_sections": true,
   "sideBar": true,
   "skip_h1_title": false,
   "title_cell": "Table of Contents",
   "title_sidebar": "Contents",
   "toc_cell": true,
   "toc_position": {},
   "toc_section_display": true,
   "toc_window_display": false
  }
 },
 "nbformat": 4,
 "nbformat_minor": 4
}
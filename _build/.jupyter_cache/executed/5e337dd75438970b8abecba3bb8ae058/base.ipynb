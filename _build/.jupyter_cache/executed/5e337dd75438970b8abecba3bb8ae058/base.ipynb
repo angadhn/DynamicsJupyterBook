{
 "cells": [
  {
   "cell_type": "code",
   "execution_count": 1,
   "metadata": {},
   "outputs": [],
   "source": [
    "from sympy.physics.mechanics import dynamicsymbols, ReferenceFrame\n",
    "from sympy import sin, cos\n",
    "theta, phi = dynamicsymbols('theta phi')\n",
    "thetadot, phidot = dynamicsymbols('theta phi',1) # gives the first time derivative of the angles"
   ]
  },
  {
   "cell_type": "code",
   "execution_count": 2,
   "metadata": {},
   "outputs": [
    {
     "data": {
      "text/latex": [
       "$\\displaystyle \\frac{d}{d t} \\theta{\\left(t \\right)}$"
      ],
      "text/plain": [
       "Derivative(theta(t), t)"
      ]
     },
     "execution_count": 2,
     "metadata": {},
     "output_type": "execute_result"
    }
   ],
   "source": [
    "thetadot"
   ]
  },
  {
   "cell_type": "code",
   "execution_count": 3,
   "metadata": {},
   "outputs": [
    {
     "data": {
      "text/latex": [
       "$\\displaystyle \\frac{d}{d t} \\phi{\\left(t \\right)}$"
      ],
      "text/plain": [
       "Derivative(phi(t), t)"
      ]
     },
     "execution_count": 3,
     "metadata": {},
     "output_type": "execute_result"
    }
   ],
   "source": [
    "phidot"
   ]
  },
  {
   "cell_type": "code",
   "execution_count": 4,
   "metadata": {},
   "outputs": [],
   "source": [
    "A = ReferenceFrame('A') # wall frame\n",
    "B = ReferenceFrame('B') # door frame\n",
    "C = ReferenceFrame('C') # cat flap frame"
   ]
  },
  {
   "cell_type": "code",
   "execution_count": 5,
   "metadata": {},
   "outputs": [],
   "source": [
    "A_omega_B_approach1 = - thetadot*A.y\n",
    "B_omega_C_approach1 = - phidot * (cos(theta)*A.x + sin(theta)*A.z)"
   ]
  },
  {
   "cell_type": "code",
   "execution_count": 6,
   "metadata": {},
   "outputs": [
    {
     "data": {
      "text/latex": [
       "$\\displaystyle -  \\cos{\\left(\\theta{\\left(t \\right)} \\right)} \\frac{d}{d t} \\phi{\\left(t \\right)}\\mathbf{\\hat{a}_x} -  \\frac{d}{d t} \\theta{\\left(t \\right)}\\mathbf{\\hat{a}_y} -  \\sin{\\left(\\theta{\\left(t \\right)} \\right)} \\frac{d}{d t} \\phi{\\left(t \\right)}\\mathbf{\\hat{a}_z}$"
      ],
      "text/plain": [
       "- cos(theta(t))*Derivative(phi(t), t)*A.x - Derivative(theta(t), t)*A.y - sin(theta(t))*Derivative(phi(t), t)*A.z"
      ]
     },
     "execution_count": 6,
     "metadata": {},
     "output_type": "execute_result"
    }
   ],
   "source": [
    "A_omega_C_approach1 = A_omega_B_approach1 + B_omega_C_approach1 # Chain rule\n",
    "A_omega_C_approach1"
   ]
  },
  {
   "cell_type": "code",
   "execution_count": 7,
   "metadata": {},
   "outputs": [
    {
     "data": {
      "text/latex": [
       "$\\displaystyle (\\sin{\\left(\\theta{\\left(t \\right)} \\right)} \\frac{d}{d t} \\phi{\\left(t \\right)} \\frac{d}{d t} \\theta{\\left(t \\right)} - \\cos{\\left(\\theta{\\left(t \\right)} \\right)} \\frac{d^{2}}{d t^{2}} \\phi{\\left(t \\right)})\\mathbf{\\hat{a}_x} -  \\frac{d^{2}}{d t^{2}} \\theta{\\left(t \\right)}\\mathbf{\\hat{a}_y} + (- \\sin{\\left(\\theta{\\left(t \\right)} \\right)} \\frac{d^{2}}{d t^{2}} \\phi{\\left(t \\right)} - \\cos{\\left(\\theta{\\left(t \\right)} \\right)} \\frac{d}{d t} \\phi{\\left(t \\right)} \\frac{d}{d t} \\theta{\\left(t \\right)})\\mathbf{\\hat{a}_z}$"
      ],
      "text/plain": [
       "(sin(theta(t))*Derivative(phi(t), t)*Derivative(theta(t), t) - cos(theta(t))*Derivative(phi(t), (t, 2)))*A.x - Derivative(theta(t), (t, 2))*A.y + (-sin(theta(t))*Derivative(phi(t), (t, 2)) - cos(theta(t))*Derivative(phi(t), t)*Derivative(theta(t), t))*A.z"
      ]
     },
     "execution_count": 7,
     "metadata": {},
     "output_type": "execute_result"
    }
   ],
   "source": [
    "A_alpha_C_approach1 = A_omega_C_approach1.dt(A)\n",
    "A_alpha_C_approach1"
   ]
  },
  {
   "cell_type": "code",
   "execution_count": 8,
   "metadata": {},
   "outputs": [],
   "source": [
    "A_omega_B_approach2 = - thetadot*B.y\n",
    "B_omega_C_approach2 = - phidot * B.x\n",
    "A_omega_C_approach2 = A_omega_B_approach2 + B_omega_C_approach2 # Chain rule again"
   ]
  },
  {
   "cell_type": "code",
   "execution_count": 9,
   "metadata": {},
   "outputs": [
    {
     "data": {
      "text/latex": [
       "$\\displaystyle -  \\frac{d^{2}}{d t^{2}} \\phi{\\left(t \\right)}\\mathbf{\\hat{b}_x} -  \\frac{d^{2}}{d t^{2}} \\theta{\\left(t \\right)}\\mathbf{\\hat{b}_y} -  \\frac{d}{d t} \\phi{\\left(t \\right)} \\frac{d}{d t} \\theta{\\left(t \\right)}\\mathbf{\\hat{b}_z}$"
      ],
      "text/plain": [
       "- Derivative(phi(t), (t, 2))*B.x - Derivative(theta(t), (t, 2))*B.y - Derivative(phi(t), t)*Derivative(theta(t), t)*B.z"
      ]
     },
     "execution_count": 9,
     "metadata": {},
     "output_type": "execute_result"
    }
   ],
   "source": [
    "A_alpha_C_approach2 = A_omega_C_approach2.dt(B) + A_omega_B_approach2.cross(A_omega_C_approach2)\n",
    "A_alpha_C_approach2"
   ]
  }
 ],
 "metadata": {
  "kernelspec": {
   "display_name": "Python 3",
   "language": "python",
   "name": "python3"
  },
  "language_info": {
   "codemirror_mode": {
    "name": "ipython",
    "version": 3
   },
   "file_extension": ".py",
   "mimetype": "text/x-python",
   "name": "python",
   "nbconvert_exporter": "python",
   "pygments_lexer": "ipython3",
   "version": "3.8.11"
  },
  "toc": {
   "base_numbering": 1,
   "nav_menu": {},
   "number_sections": true,
   "sideBar": true,
   "skip_h1_title": false,
   "title_cell": "Table of Contents",
   "title_sidebar": "Contents",
   "toc_cell": true,
   "toc_position": {},
   "toc_section_display": true,
   "toc_window_display": false
  }
 },
 "nbformat": 4,
 "nbformat_minor": 4
}
{
 "cells": [
  {
   "cell_type": "markdown",
   "metadata": {
    "toc": true
   },
   "source": [
    "<h1>Table of Contents<span class=\"tocSkip\"></span></h1>\n",
    "<div class=\"toc\"><ul class=\"toc-item\"><li><span><a href=\"#Overview-of-Practice-Acitivty-L5PA5\" data-toc-modified-id=\"Overview-of-Practice-Acitivty-L5PA5-1\"><span class=\"toc-item-num\">1&nbsp;&nbsp;</span>Overview of Practice Acitivty L5PA5</a></span></li><li><span><a href=\"#Problem-set-up\" data-toc-modified-id=\"Problem-set-up-2\"><span class=\"toc-item-num\">2&nbsp;&nbsp;</span>Problem set-up</a></span><ul class=\"toc-item\"><li><span><a href=\"#Create-constants-using-symbols-and-time-varying-scalars-using-dynamicsymbols\" data-toc-modified-id=\"Create-constants-using-symbols-and-time-varying-scalars-using-dynamicsymbols-2.1\"><span class=\"toc-item-num\">2.1&nbsp;&nbsp;</span>Create constants using <code>symbols</code> and time-varying scalars using <code>dynamicsymbols</code></a></span></li><li><span><a href=\"#Create-and-orient-reference-frames-$N$,-$A$,-and-$B$\" data-toc-modified-id=\"Create-and-orient-reference-frames-$N$,-$A$,-and-$B$-2.2\"><span class=\"toc-item-num\">2.2&nbsp;&nbsp;</span>Create and orient reference frames $N$, $A$, and $B$</a></span></li><li><span><a href=\"#Create-the-points-$O$,-$Q$,-and-$P$\" data-toc-modified-id=\"Create-the-points-$O$,-$Q$,-and-$P$-2.3\"><span class=\"toc-item-num\">2.3&nbsp;&nbsp;</span>Create the points $O$, $Q$, and $P$</a></span></li></ul></li><li><span><a href=\"#Approach-1:-Using-definitions\" data-toc-modified-id=\"Approach-1:-Using-definitions-3\"><span class=\"toc-item-num\">3&nbsp;&nbsp;</span>Approach 1: Using definitions</a></span><ul class=\"toc-item\"><li><span><a href=\"#Compute-$^N{\\bf-v}^P$\" data-toc-modified-id=\"Compute-$^N{\\bf-v}^P$-3.1\"><span class=\"toc-item-num\">3.1&nbsp;&nbsp;</span>Compute $^N{\\bf v}^P$</a></span></li><li><span><a href=\"#Compute-$^A{\\bf-v}^P$\" data-toc-modified-id=\"Compute-$^A{\\bf-v}^P$-3.2\"><span class=\"toc-item-num\">3.2&nbsp;&nbsp;</span>Compute $^A{\\bf v}^P$</a></span></li></ul></li><li><span><a href=\"#Approach-2:-Implementing-one-point-theorem\" data-toc-modified-id=\"Approach-2:-Implementing-one-point-theorem-4\"><span class=\"toc-item-num\">4&nbsp;&nbsp;</span>Approach 2: Implementing one point theorem</a></span><ul class=\"toc-item\"><li><span><a href=\"#Compute-$^N{\\bf-v}^P$\" data-toc-modified-id=\"Compute-$^N{\\bf-v}^P$-4.1\"><span class=\"toc-item-num\">4.1&nbsp;&nbsp;</span>Compute $^N{\\bf v}^P$</a></span><ul class=\"toc-item\"><li><span><a href=\"#Step-1:-Define-$^B{\\bf-v}^P$-using-.set_vel\" data-toc-modified-id=\"Step-1:-Define-$^B{\\bf-v}^P$-using-.set_vel-4.1.1\"><span class=\"toc-item-num\">4.1.1&nbsp;&nbsp;</span>Step 1: Define $^B{\\bf v}^P$ using <code>.set_vel</code></a></span></li><li><span><a href=\"#Step-2:-Compute-$^N{\\bf-v}^Q$\" data-toc-modified-id=\"Step-2:-Compute-$^N{\\bf-v}^Q$-4.1.2\"><span class=\"toc-item-num\">4.1.2&nbsp;&nbsp;</span>Step 2: Compute $^N{\\bf v}^Q$</a></span></li><li><span><a href=\"#Step-3:-Store-$^N\\omega^B$-for-use-in-one-point-formula\" data-toc-modified-id=\"Step-3:-Store-$^N\\omega^B$-for-use-in-one-point-formula-4.1.3\"><span class=\"toc-item-num\">4.1.3&nbsp;&nbsp;</span>Step 3: Store $^N\\omega^B$ for use in one-point formula</a></span></li><li><span><a href=\"#Step-4:-Finally,-compute-$^N{\\bf-v}^P$\" data-toc-modified-id=\"Step-4:-Finally,-compute-$^N{\\bf-v}^P$-4.1.4\"><span class=\"toc-item-num\">4.1.4&nbsp;&nbsp;</span>Step 4: Finally, compute $^N{\\bf v}^P$</a></span></li></ul></li><li><span><a href=\"#Compute-$^A{\\bf-v}^P$\" data-toc-modified-id=\"Compute-$^A{\\bf-v}^P$-4.2\"><span class=\"toc-item-num\">4.2&nbsp;&nbsp;</span>Compute $^A{\\bf v}^P$</a></span><ul class=\"toc-item\"><li><span><a href=\"#Step-1:-Set-velocity-of-$Q$-to-zero-in-$A$-and-$B$\" data-toc-modified-id=\"Step-1:-Set-velocity-of-$Q$-to-zero-in-$A$-and-$B$-4.2.1\"><span class=\"toc-item-num\">4.2.1&nbsp;&nbsp;</span>Step 1: Set velocity of $Q$ to zero in $A$ and $B$</a></span></li><li><span><a href=\"#Step-2:-Store-$^A\\omega^B$-to--use-in-one-point-theorem\" data-toc-modified-id=\"Step-2:-Store-$^A\\omega^B$-to--use-in-one-point-theorem-4.2.2\"><span class=\"toc-item-num\">4.2.2&nbsp;&nbsp;</span>Step 2: Store $^A\\omega^B$ to  use in one-point theorem</a></span></li><li><span><a href=\"#Step-3:-Finally,-compute-$^N{\\bf-v}^P$\" data-toc-modified-id=\"Step-3:-Finally,-compute-$^N{\\bf-v}^P$-4.2.3\"><span class=\"toc-item-num\">4.2.3&nbsp;&nbsp;</span>Step 3: Finally, compute $^N{\\bf v}^P$</a></span></li></ul></li></ul></li></ul></div>"
   ]
  },
  {
   "cell_type": "markdown",
   "metadata": {},
   "source": [
    "# Overview of Practice Acitivty L5PA5\n",
    "<img src=\"Figures/Particle_sliding_on_Double_Pendulum.png\" height=300 width=300>\n",
    "\n",
    "This notebook use the example of a particle $P$ sliding on a double pendulum (see figure above); this system was first presented to you in the file \"7 Particle Kinematics\". Your objective is to compute the :\n",
    "1. $^N{\\bf v}^P$, velocity of $P$ in $N$; and\n",
    "2. $^B{\\bf v}^P$, velocity of $P$ in $A$.\n",
    "\n",
    "You are to complete this task using:\n",
    "1. the defintions of velocity $^N{\\bf v}^P \\triangleq \\frac{^N d}{dt}{\\bf r}_{OP}$ and $^A{\\bf v}^P \\triangleq \\frac{^A d}{dt}{^N{\\bf r}^{QP}}$\n",
    "2. the one-point theorem for velocity."
   ]
  },
  {
   "cell_type": "markdown",
   "metadata": {},
   "source": [
    "# Problem set-up\n",
    "## Create constants using `symbols` and time-varying scalars using `dynamicsymbols`\n",
    "Below we create the scalar constant $l$, which is the length of the links $A$ and $B$; this is stored as the variable `l_scalar.`:"
   ]
  },
  {
   "cell_type": "code",
   "execution_count": 1,
   "metadata": {},
   "outputs": [],
   "source": [
    "from sympy import symbols, sin, cos\n",
    "from sympy.physics.mechanics import dynamicsymbols, ReferenceFrame, init_vprinting\n",
    "init_vprinting()\n",
    "l_scalar = symbols('l')"
   ]
  },
  {
   "cell_type": "markdown",
   "metadata": {},
   "source": [
    "A similar convention for naming variables is used to create `theta_1_scalar`, `theta_2_scalar`, and `x_scalar` to represent  $\\theta_1$, $\\theta_2$, and $x$. These are created as `dynamicsymbols` as they signifiy the time-varying variables in the figure above. This is done by:"
   ]
  },
  {
   "cell_type": "code",
   "execution_count": 2,
   "metadata": {},
   "outputs": [],
   "source": [
    "theta_1_scalar, theta_2_scalar, x_scalar = dynamicsymbols('theta_1, theta_2, x')\n",
    "x_scalar_dot = dynamicsymbols('x', 1)"
   ]
  },
  {
   "cell_type": "markdown",
   "metadata": {},
   "source": [
    "## Create and orient reference frames $N$, $A$, and $B$"
   ]
  },
  {
   "cell_type": "markdown",
   "metadata": {},
   "source": [
    "Next, we create the three reference frames $N$, $A$, and $B$, which are stored in the variable names `N`, `A`, and `B`,  respectively."
   ]
  },
  {
   "cell_type": "code",
   "execution_count": 3,
   "metadata": {},
   "outputs": [],
   "source": [
    "N = ReferenceFrame('N')\n",
    "A = ReferenceFrame('A')\n",
    "B = ReferenceFrame('B')"
   ]
  },
  {
   "cell_type": "markdown",
   "metadata": {},
   "source": [
    "Since we are given the angles between the three reference frames, we can use the `.orient` method to define the relative orientations using `sympy`. We can define the  between `N` and `A` (and also between `A` and `B`) using the `'Axis'` rotation type within the `.orient` method, as shown below:"
   ]
  },
  {
   "cell_type": "code",
   "execution_count": 4,
   "metadata": {},
   "outputs": [
    {
     "data": {
      "image/png": "[encoded data removed]",
      "text/latex": [
       "$\\displaystyle \\dot{\\theta}_{1}\\mathbf{\\hat{n}_z}$"
      ],
      "text/plain": [
       "θ₁̇ n_z"
      ]
     },
     "execution_count": 4,
     "metadata": {
      "filenames": {
       "image/png": "/Users/inertialframe/projects/ComputationalDynamics/mini_book/_build/jupyter_execute/1_Kinematics/Week5/L5PA7_10_0.png"
      }
     },
     "output_type": "execute_result"
    }
   ],
   "source": [
    "A.orient(N, 'Axis', (theta_1_scalar, N.z))\n",
    "A.ang_vel_in(N)"
   ]
  },
  {
   "cell_type": "code",
   "execution_count": 5,
   "metadata": {},
   "outputs": [
    {
     "data": {
      "image/png": "[encoded data removed]",
      "text/latex": [
       "$\\displaystyle \\dot{\\theta}_{2}\\mathbf{\\hat{a}_z} + \\dot{\\theta}_{1}\\mathbf{\\hat{n}_z}$"
      ],
      "text/plain": [
       "θ₂̇ a_z + θ₁̇ n_z"
      ]
     },
     "execution_count": 5,
     "metadata": {
      "filenames": {
       "image/png": "/Users/inertialframe/projects/ComputationalDynamics/mini_book/_build/jupyter_execute/1_Kinematics/Week5/L5PA7_11_0.png"
      }
     },
     "output_type": "execute_result"
    }
   ],
   "source": [
    "B.orient(A, 'Axis', (theta_2_scalar, A.z))\n",
    "B.ang_vel_in(N)"
   ]
  },
  {
   "cell_type": "markdown",
   "metadata": {},
   "source": [
    "## Create the points $O$, $Q$, and $P$\n",
    "Next, we need to create three points:\n",
    "1. $O$ is the point of contact between link $A$ and ceiling $N$; the corresponding variable name we use is `O`\n",
    "2. $Q$ is the point of contact between link $A$ and link $B$; the corresponding variable name we use is `Q`\n",
    "3. $P$ is also modeled as a point (massless particle) that slides on the link $B$; the corresponding variable name is `P`.\n",
    "\n",
    "Each of these points is made using `Point`, which we import from `sympy.physics.mechanics`, as below:"
   ]
  },
  {
   "cell_type": "code",
   "execution_count": 6,
   "metadata": {},
   "outputs": [],
   "source": [
    "from sympy.physics.mechanics import Point\n",
    "O = Point('O')\n",
    "Q = Point('Q')\n",
    "P = Point('P')"
   ]
  },
  {
   "cell_type": "markdown",
   "metadata": {},
   "source": [
    "You can see that this command is quite similar in its syntax to how we create a reference frame using `sympy`'s `ReferenceFrame` feature. As you have seen in this and preceding activities, once we have created a `ReferenceFrame`, we can exploit methods such as `orient`, `set_ang_vel`, and `set_ang_acc` to describe the orientation kinematics. Similarly, we can use the `Point` class to define the translational kinematics; in other words, we can exploit methods that are bundled with the `Point` feature of `sympy` to:\n",
    "1. describe position vectors between points using `.set_pos`;\n",
    "2. define the velocities of points in different frames using `.set_vel`; and\n",
    "3. accelerations of points in different frames using `.set_acc`.\n",
    "\n",
    "In the remaining discussion of this chapter, we see how to use these methods in computing the kinematics of points by implementing computational versions of the two-point theorem abd one-point theorem. Let's get started......\n",
    "\n",
    "From, the figure, we know that ${\\bf r}^{OQ}$ is the position vector from $O$ to $Q$. We can use `sympy` to define the location of $Q$ using the `.set_pos()` method on that point. The `.set_pos()` method requires that you (the user) provide two additional details to it:\n",
    "1. The point from which $Q$'s location is defined relative; in this case, it is $O$.\n",
    "2. The component form of the vector in an appropriate reference frame. In this case, $l \\hat{\\bf a}_y$ is the position vector ${\\bf r}^{OQ}$, so we provide this as `l_scalar*A.y` to the `.set_pos()`.\n",
    "This is shown below:"
   ]
  },
  {
   "cell_type": "code",
   "execution_count": 7,
   "metadata": {},
   "outputs": [],
   "source": [
    "Q.set_pos(O, l_scalar*A.y)"
   ]
  },
  {
   "cell_type": "markdown",
   "metadata": {},
   "source": [
    "As you can see, this method does not print anything in an output cell. However, the computer stores this information internally. To access this information, we have another method that we can use for any point called `.pos_from`. This can be used to examine the position vector as shown below. Note that, I choose to actually store the output of `.pos_from` in a variable name `r_OQ_vector` as I know I will need it later for my computations of the two-point theorem."
   ]
  },
  {
   "cell_type": "code",
   "execution_count": 8,
   "metadata": {},
   "outputs": [
    {
     "data": {
      "image/png": "[encoded data removed]",
      "text/latex": [
       "$\\displaystyle l\\mathbf{\\hat{a}_y}$"
      ],
      "text/plain": [
       "l a_y"
      ]
     },
     "execution_count": 8,
     "metadata": {
      "filenames": {
       "image/png": "/Users/inertialframe/projects/ComputationalDynamics/mini_book/_build/jupyter_execute/1_Kinematics/Week5/L5PA7_17_0.png"
      }
     },
     "output_type": "execute_result"
    }
   ],
   "source": [
    "r_OQ_vector = Q.pos_from(O)\n",
    "r_OQ_vector"
   ]
  },
  {
   "cell_type": "markdown",
   "metadata": {},
   "source": [
    "Similarlyl, we can configure the $P$ by making use of the two methods described above, `set_pos` and `pos_from`, on P. Then, we can store the position vector information about P relative to Q (i.e., ${\\bf r}^{QP}$) in the variable name `r_QP_vector`. This is shown below:"
   ]
  },
  {
   "cell_type": "code",
   "execution_count": 9,
   "metadata": {},
   "outputs": [
    {
     "data": {
      "image/png": "[encoded data removed]",
      "text/latex": [
       "$\\displaystyle x\\mathbf{\\hat{b}_y}$"
      ],
      "text/plain": [
       "x b_y"
      ]
     },
     "execution_count": 9,
     "metadata": {
      "filenames": {
       "image/png": "/Users/inertialframe/projects/ComputationalDynamics/mini_book/_build/jupyter_execute/1_Kinematics/Week5/L5PA7_19_0.png"
      }
     },
     "output_type": "execute_result"
    }
   ],
   "source": [
    "P.set_pos(Q, x_scalar*B.y)\n",
    "r_QP_vector = P.pos_from(Q)\n",
    "r_QP_vector"
   ]
  },
  {
   "cell_type": "markdown",
   "metadata": {},
   "source": [
    "Now, from out lecture notes, we know that ${\\bf r}^{OP}$,the position vector from $O$ to $P$, is given by:\n",
    "\n",
    "<img src=\"Figures/r_OP.png\" height=400 width=400>\n",
    "\n",
    "So, we can use `sympy` and our knowledge of vector addition to compute this position vector using the `r_OQ_vector` and `r_QP_vector`. I store this information in a variable `r_OP_vector`, as shown below:"
   ]
  },
  {
   "cell_type": "code",
   "execution_count": 10,
   "metadata": {},
   "outputs": [
    {
     "data": {
      "image/png": "[encoded data removed]",
      "text/latex": [
       "$\\displaystyle l\\mathbf{\\hat{a}_y} + x\\mathbf{\\hat{b}_y}$"
      ],
      "text/plain": [
       "l a_y + x b_y"
      ]
     },
     "execution_count": 10,
     "metadata": {
      "filenames": {
       "image/png": "/Users/inertialframe/projects/ComputationalDynamics/mini_book/_build/jupyter_execute/1_Kinematics/Week5/L5PA7_21_0.png"
      }
     },
     "output_type": "execute_result"
    }
   ],
   "source": [
    "r_OP_vector = r_OQ_vector + r_QP_vector\n",
    "r_OP_vector"
   ]
  },
  {
   "cell_type": "markdown",
   "metadata": {},
   "source": [
    "Next, I describe how we can exploit `sympy` and our knowledge on vector calculus to compute velocities of $P$ from diffrerent reference frames."
   ]
  },
  {
   "cell_type": "markdown",
   "metadata": {},
   "source": [
    "# Approach 1: Using definitions\n",
    "\n",
    "## Compute $^N{\\bf v}^P$"
   ]
  },
  {
   "cell_type": "markdown",
   "metadata": {},
   "source": [
    "The classical definition of velocity is well known (see figure below):\n",
    "\n",
    "<img src=\"Figures/NvP_approach_1.png\" height=200 width=200>\n",
    "\n",
    "We use that and our knowledge of taking time derivatives in `sympy` to compute $^N{\\bf v}^P$, which is stored in the variable `N_v_P_approach1`."
   ]
  },
  {
   "cell_type": "code",
   "execution_count": 11,
   "metadata": {},
   "outputs": [
    {
     "data": {
      "image/png": "[encoded data removed]",
      "text/latex": [
       "$\\displaystyle (- l \\dot{\\theta}_{1} - \\left(\\dot{\\theta}_{1} + \\dot{\\theta}_{2}\\right) x \\cos{\\left(\\theta_{2} \\right)} - \\sin{\\left(\\theta_{2} \\right)} \\dot{x})\\mathbf{\\hat{a}_x} + (- \\left(\\dot{\\theta}_{1} + \\dot{\\theta}_{2}\\right) x \\sin{\\left(\\theta_{2} \\right)} + \\cos{\\left(\\theta_{2} \\right)} \\dot{x})\\mathbf{\\hat{a}_y}$"
      ],
      "text/plain": [
       "(-l⋅θ₁̇ - (θ₁̇ + θ₂̇)⋅x⋅cos(θ₂) - sin(θ₂)⋅ẋ) a_x + (-(θ₁̇ + θ\n",
       "₂̇)⋅x⋅sin(θ₂) + cos(θ₂)⋅ẋ) a_y"
      ]
     },
     "execution_count": 11,
     "metadata": {
      "filenames": {
       "image/png": "/Users/inertialframe/projects/ComputationalDynamics/mini_book/_build/jupyter_execute/1_Kinematics/Week5/L5PA7_25_0.png"
      }
     },
     "output_type": "execute_result"
    }
   ],
   "source": [
    "N_v_P_approach1 = r_OP_vector.dt(N)\n",
    "N_v_P_approach1.express(A)"
   ]
  },
  {
   "cell_type": "markdown",
   "metadata": {},
   "source": [
    "## Compute $^A{\\bf v}^P$\n",
    "\n",
    "$^A{\\bf v}^P$ is also computed in a similar fashion using classical definition and sympy; this information is stored in the variable name `A_v_P_approach1`. See below:"
   ]
  },
  {
   "cell_type": "code",
   "execution_count": 12,
   "metadata": {},
   "outputs": [
    {
     "data": {
      "image/png": "[encoded data removed]",
      "text/latex": [
       "$\\displaystyle (- x \\cos{\\left(\\theta_{2} \\right)} \\dot{\\theta}_{2} - \\sin{\\left(\\theta_{2} \\right)} \\dot{x})\\mathbf{\\hat{a}_x} + (- x \\sin{\\left(\\theta_{2} \\right)} \\dot{\\theta}_{2} + \\cos{\\left(\\theta_{2} \\right)} \\dot{x})\\mathbf{\\hat{a}_y}$"
      ],
      "text/plain": [
       "(-x⋅cos(θ₂)⋅θ₂̇ - sin(θ₂)⋅ẋ) a_x + (-x⋅sin(θ₂)⋅θ₂̇ + cos(θ₂)⋅\n",
       "ẋ) a_y"
      ]
     },
     "execution_count": 12,
     "metadata": {
      "filenames": {
       "image/png": "/Users/inertialframe/projects/ComputationalDynamics/mini_book/_build/jupyter_execute/1_Kinematics/Week5/L5PA7_27_0.png"
      }
     },
     "output_type": "execute_result"
    }
   ],
   "source": [
    "A_v_P_approach1 = r_QP_vector.dt(A)\n",
    "A_v_P_approach1.express(A)"
   ]
  },
  {
   "cell_type": "markdown",
   "metadata": {},
   "source": [
    "# Approach 2: Implementing one point theorem\n",
    "In this section, we learn to compute the two velocities $^N{\\bf v}^P$ and $^A{\\bf v}^P$ using the one-point theorem.\n",
    "## Compute $^N{\\bf v}^P$"
   ]
  },
  {
   "cell_type": "markdown",
   "metadata": {},
   "source": [
    "To begin, we must first identify correctly how to utilize the one-point theorem. This has been explained in the video lecture so reference that to referesh your memory. In the image below, the resulting equation from correctly applying the one point theorem to compute $^N{\\bf v}^P$ is repeated from the handwritten notes :\n",
    "\n",
    "<img src=\"Figures/NvP_one_point.png\" height=300 width=300>\n",
    "\n",
    "The right hand side of the above equation tells us what we need to compute. Specifically, it tells us we will need to compute the following to determine $^N{\\bf v}^P$ in `sympy`:\n",
    "1. $^B{\\bf v}^P$, which we can easily evaluate from the figure; \n",
    "2. $^N{\\bf v}^Q$, which we compute using the two-point theorem. This is discussed in greater detail below (and also covered in the lecture notes);\n",
    "3. $^N{\\bf \\omega}^B$; this information is actually already available from approach 1 above, where we used the `.orient` method. However, we haven't stored this in a variable, which we will do in the steps that follow below; and\n",
    "4. ${\\bf r}^{QP}$, which we have already computed above for Approach 1; this is already stored in the variable name `r_QP_vector`.\n",
    "\n",
    "### Step 1: Define $^B{\\bf v}^P$ using `.set_vel`\n",
    "From the figure, we can easily compute the $^B{\\bf v}^P = \\dot x \\hat {\\bf b}_y$. We can then use the `.set_vel` to set the velocity of `P` in the `B`-frame. This is then stored in the variable `B_v_P_vector` using `.vel` method.\n",
    "\n",
    "___The difference between `.set_vel` and `.vel`: the former lets us define the velocity and store it within the computer without an output; the latter method allows a human to access the velocity vector for future computation__. In other words, their behaviour is similar to what we see for creating position vectors using `.set_pos` and accessing it using `.pos_from`.\n",
    "\n",
    "This is shown below:"
   ]
  },
  {
   "cell_type": "code",
   "execution_count": 13,
   "metadata": {},
   "outputs": [
    {
     "data": {
      "image/png": "[encoded data removed]",
      "text/latex": [
       "$\\displaystyle \\dot{x}\\mathbf{\\hat{b}_y}$"
      ],
      "text/plain": [
       "ẋ b_y"
      ]
     },
     "execution_count": 13,
     "metadata": {
      "filenames": {
       "image/png": "/Users/inertialframe/projects/ComputationalDynamics/mini_book/_build/jupyter_execute/1_Kinematics/Week5/L5PA7_30_0.png"
      }
     },
     "output_type": "execute_result"
    }
   ],
   "source": [
    "P.set_vel(B, x_scalar_dot*B.y)\n",
    "B_v_P_vector = P.vel(B)\n",
    "B_v_P_vector"
   ]
  },
  {
   "cell_type": "markdown",
   "metadata": {},
   "source": [
    "### Step 2: Compute $^N{\\bf v}^Q$\n",
    "To compute this velocity, $^N{\\bf v}^Q$, we make use of the two point theorem. This is shown below from the lecture notes:\n",
    "<img src=\"Figures/NvQ_two_point.png\" height=300 width=300>\n",
    "\n",
    "From the figure it is clear that point $O$ is fixed in the two frames $N$ and $A$. So, for all our `sympy`-bsed computations, we need to ensure that $O$ is fixed in frames $N$ and $A$ as a point of zero velocity. This is done using our tried and tested `.set_vel` method, as shown below:"
   ]
  },
  {
   "cell_type": "code",
   "execution_count": 14,
   "metadata": {},
   "outputs": [],
   "source": [
    "O.set_vel(N, 0)\n",
    "O.set_vel(A, 0)"
   ]
  },
  {
   "cell_type": "markdown",
   "metadata": {},
   "source": [
    "Further, as we know that the two-point theorem for $^N{\\bf v}^Q$ requires $^N{\\bf v}^O$, we store this latter velocity in the variable named `N_v_O_vector` using the `.vel` method."
   ]
  },
  {
   "cell_type": "code",
   "execution_count": 15,
   "metadata": {},
   "outputs": [],
   "source": [
    "N_v_O_vector = O.vel(N)"
   ]
  },
  {
   "cell_type": "markdown",
   "metadata": {},
   "source": [
    "In approach 1, we defined the orientaion of $A$ in $N$. So, we can easily use the `.ang_vel_in` method to store the angular velocity of A in N ($^N\\omega^A$) in the variable `N_w_A_vector`:"
   ]
  },
  {
   "cell_type": "code",
   "execution_count": 16,
   "metadata": {},
   "outputs": [],
   "source": [
    "N_w_A_vector = A.ang_vel_in(N)"
   ]
  },
  {
   "cell_type": "markdown",
   "metadata": {},
   "source": [
    "Finally, we can compute the $^N{\\bf v}^Q$ by defining the the two-point formula, as below:"
   ]
  },
  {
   "cell_type": "code",
   "execution_count": 17,
   "metadata": {},
   "outputs": [
    {
     "data": {
      "image/png": "[encoded data removed]",
      "text/latex": [
       "$\\displaystyle -  l \\dot{\\theta}_{1}\\mathbf{\\hat{a}_x}$"
      ],
      "text/plain": [
       "-l⋅θ₁̇ a_x"
      ]
     },
     "execution_count": 17,
     "metadata": {
      "filenames": {
       "image/png": "/Users/inertialframe/projects/ComputationalDynamics/mini_book/_build/jupyter_execute/1_Kinematics/Week5/L5PA7_38_0.png"
      }
     },
     "output_type": "execute_result"
    }
   ],
   "source": [
    "N_v_Q_vector = N_v_O_vector + N_w_A_vector.cross(r_OQ_vector)\n",
    "N_v_Q_vector"
   ]
  },
  {
   "cell_type": "markdown",
   "metadata": {},
   "source": [
    "### Step 3: Store $^N\\omega^B$ for use in one-point formula\n",
    "We can store $^N\\omega^B$ in the variable `N_w_B_vector` using the `.ang_vel_in` method on B, as shown below:"
   ]
  },
  {
   "cell_type": "code",
   "execution_count": 18,
   "metadata": {},
   "outputs": [],
   "source": [
    "N_w_B_vector = B.ang_vel_in(N)"
   ]
  },
  {
   "cell_type": "markdown",
   "metadata": {},
   "source": [
    "### Step 4: Finally, compute $^N{\\bf v}^P$\n",
    "Now, we can finally compute the $^N{\\bf v}^P$ by implementing the one point theorem (repeating the hand-written equation so you can avoid scrolling up):\n",
    "\n",
    "<img src=\"Figures/NvP_one_point.png\" height=300 width=300>\n",
    "\n",
    "Indeed, we will store $^N{\\bf v}^P$ in a variable named `N_v_P_vector_approach2` to be clear that we are using our second approach here. In `sympy`, we  implement the handwritten equation to compute $^N{\\bf v}^P$ by making use of vector addition (which you have already learned) as follows:"
   ]
  },
  {
   "cell_type": "code",
   "execution_count": 19,
   "metadata": {},
   "outputs": [
    {
     "data": {
      "image/png": "[encoded data removed]",
      "text/latex": [
       "$\\displaystyle (- l \\dot{\\theta}_{1} - \\left(\\dot{\\theta}_{1} + \\dot{\\theta}_{2}\\right) x \\cos{\\left(\\theta_{2} \\right)} - \\sin{\\left(\\theta_{2} \\right)} \\dot{x})\\mathbf{\\hat{a}_x} + (- \\left(\\dot{\\theta}_{1} + \\dot{\\theta}_{2}\\right) x \\sin{\\left(\\theta_{2} \\right)} + \\cos{\\left(\\theta_{2} \\right)} \\dot{x})\\mathbf{\\hat{a}_y}$"
      ],
      "text/plain": [
       "(-l⋅θ₁̇ - (θ₁̇ + θ₂̇)⋅x⋅cos(θ₂) - sin(θ₂)⋅ẋ) a_x + (-(θ₁̇ + θ\n",
       "₂̇)⋅x⋅sin(θ₂) + cos(θ₂)⋅ẋ) a_y"
      ]
     },
     "execution_count": 19,
     "metadata": {
      "filenames": {
       "image/png": "/Users/inertialframe/projects/ComputationalDynamics/mini_book/_build/jupyter_execute/1_Kinematics/Week5/L5PA7_42_0.png"
      }
     },
     "output_type": "execute_result"
    }
   ],
   "source": [
    "N_v_P_vector_approach2 = B_v_P_vector + N_v_Q_vector + N_w_B_vector.cross(r_QP_vector)\n",
    "N_v_P_vector_approach2.express(A)"
   ]
  },
  {
   "cell_type": "markdown",
   "metadata": {},
   "source": [
    "## Compute $^A{\\bf v}^P$\n",
    "By one-point theorem, we know that $^A{\\bf v}^P$ can be evaluated using:\n",
    "\n",
    "<img src=\"Figures/AvP_one_point.png\" height=300 width=300>\n",
    "\n",
    "So, we can do this entire computation in `sympy` through the few lines of code written below (This is very similar to how we computed $^N{\\bf v}^P$). Note that:\n",
    "1. we have already computed and stored $^B{\\bf v}^P$ in `B_v_P_vector`; and\n",
    "2. we have already computed and stored ${\\bf r}^{QP}$ in `r_QP_vector`.\n",
    "\n",
    "We discuss the evaluation of the other terms in the below steps.\n",
    "### Step 1: Set velocity of $Q$ to zero in $A$ and $B$\n",
    "Since Q is a point shared by and also fixed in the bodies $A$ and $B$, we use the `.set_vel` method to set its velocity to be zero. We then store this in the `A_v_Q_vector` for accessing in later computations:"
   ]
  },
  {
   "cell_type": "code",
   "execution_count": 20,
   "metadata": {},
   "outputs": [
    {
     "data": {
      "image/png": "[encoded data removed]",
      "text/latex": [
       "$\\displaystyle 0$"
      ],
      "text/plain": [
       "0"
      ]
     },
     "execution_count": 20,
     "metadata": {
      "filenames": {
       "image/png": "/Users/inertialframe/projects/ComputationalDynamics/mini_book/_build/jupyter_execute/1_Kinematics/Week5/L5PA7_44_0.png"
      }
     },
     "output_type": "execute_result"
    }
   ],
   "source": [
    "Q.set_vel(A, 0)\n",
    "Q.set_vel(B, 0)\n",
    "A_v_Q_vector = Q.vel(A)\n",
    "A_v_Q_vector"
   ]
  },
  {
   "cell_type": "markdown",
   "metadata": {},
   "source": [
    "### Step 2: Store $^A\\omega^B$ to  use in one-point theorem\n",
    "In approach 1, we already used the `orient` method on $B$ to define its orientaiton relative to $A$. So, we can readily access its angular velocity using the `.ang_vel_in` method on B. For future use, we store $^A\\omega^B$ in the variable `A_w_B_vector`, as shown below:"
   ]
  },
  {
   "cell_type": "code",
   "execution_count": 21,
   "metadata": {},
   "outputs": [],
   "source": [
    "A_w_B_vector = B.ang_vel_in(A)"
   ]
  },
  {
   "cell_type": "markdown",
   "metadata": {},
   "source": [
    "### Step 3: Finally, compute $^N{\\bf v}^P$\n",
    "Now, we can finally compute the $^A{\\bf v}^P$ by implementing the appropriate version of the one-point theorem in `sympy`. We store $^A{\\bf v}^P$ in the variable `A_v_P_vector_approach2`."
   ]
  },
  {
   "cell_type": "code",
   "execution_count": 22,
   "metadata": {},
   "outputs": [
    {
     "data": {
      "image/png": "[encoded data removed]",
      "text/latex": [
       "$\\displaystyle (- x \\cos{\\left(\\theta_{2} \\right)} \\dot{\\theta}_{2} - \\sin{\\left(\\theta_{2} \\right)} \\dot{x})\\mathbf{\\hat{a}_x} + (- x \\sin{\\left(\\theta_{2} \\right)} \\dot{\\theta}_{2} + \\cos{\\left(\\theta_{2} \\right)} \\dot{x})\\mathbf{\\hat{a}_y}$"
      ],
      "text/plain": [
       "(-x⋅cos(θ₂)⋅θ₂̇ - sin(θ₂)⋅ẋ) a_x + (-x⋅sin(θ₂)⋅θ₂̇ + cos(θ₂)⋅\n",
       "ẋ) a_y"
      ]
     },
     "execution_count": 22,
     "metadata": {
      "filenames": {
       "image/png": "/Users/inertialframe/projects/ComputationalDynamics/mini_book/_build/jupyter_execute/1_Kinematics/Week5/L5PA7_48_0.png"
      }
     },
     "output_type": "execute_result"
    }
   ],
   "source": [
    "A_v_P_vector_approach2 = B_v_P_vector + A_v_Q_vector + A_w_B_vector.cross(r_QP_vector)\n",
    "A_v_P_vector_approach2.express(A)"
   ]
  },
  {
   "cell_type": "markdown",
   "metadata": {},
   "source": [
    "We can also compare that the resulting velocities are the same using either approach by comparing the `A_v_P_vector_approach2` is identical to `A_v_P_vector_approach1` as below:"
   ]
  },
  {
   "cell_type": "code",
   "execution_count": 23,
   "metadata": {},
   "outputs": [
    {
     "data": {
      "text/plain": [
       "True"
      ]
     },
     "execution_count": 23,
     "metadata": {},
     "output_type": "execute_result"
    }
   ],
   "source": [
    "A_v_P_vector_approach2.express(A) == A_v_P_approach1.express(A)"
   ]
  },
  {
   "cell_type": "markdown",
   "metadata": {},
   "source": [
    "In English, we can say that the above input line is essentially us asking the computer: is the `A_v_P_vector_approach2` the same as `A_v_P_approach1`? Or, in other words, are the two approaches to computing velocities identical?\n",
    "\n",
    "The `==` sign is one type of a comparison operator in computer programming. For those interested in learning more, they are discussed [here](https://www.tutorialspoint.com/python/comparison_operators_example.htm)."
   ]
  }
 ],
 "metadata": {
  "kernelspec": {
   "display_name": "Python 3",
   "language": "python",
   "name": "python3"
  },
  "language_info": {
   "codemirror_mode": {
    "name": "ipython",
    "version": 3
   },
   "file_extension": ".py",
   "mimetype": "text/x-python",
   "name": "python",
   "nbconvert_exporter": "python",
   "pygments_lexer": "ipython3",
   "version": "3.8.11"
  },
  "toc": {
   "base_numbering": 1,
   "nav_menu": {},
   "number_sections": true,
   "sideBar": true,
   "skip_h1_title": false,
   "title_cell": "Table of Contents",
   "title_sidebar": "Contents",
   "toc_cell": true,
   "toc_position": {},
   "toc_section_display": true,
   "toc_window_display": false
  }
 },
 "nbformat": 4,
 "nbformat_minor": 4
}